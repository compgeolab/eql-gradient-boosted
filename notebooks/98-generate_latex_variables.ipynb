{
 "cells": [
  {
   "cell_type": "markdown",
   "metadata": {},
   "source": [
    "# Convert variables stored in JSON files to LaTeX variables"
   ]
  },
  {
   "cell_type": "code",
   "execution_count": 1,
   "metadata": {},
   "outputs": [],
   "source": [
    "from IPython.display import display\n",
    "from pathlib import Path\n",
    "import json\n",
    "import xarray as xr\n",
    "\n",
    "from boost_and_layouts import (\n",
    "    create_latex_variable,\n",
    "    create_loglist,\n",
    "    list_to_latex,\n",
    "    format_variable_name,\n",
    "    format_power_of_ten,\n",
    ")"
   ]
  },
  {
   "cell_type": "code",
   "execution_count": 2,
   "metadata": {},
   "outputs": [
    {
     "name": "stderr",
     "output_type": "stream",
     "text": [
      "/home/santi/.anaconda3/envs/eql-gradient-boosted/lib/python3.7/site-packages/ipykernel/ipkernel.py:287: DeprecationWarning: `should_run_async` will not call `transform_cell` automatically in the future. Please pass the result to `transformed_cell` argument and any exception that happen during thetransform in `preprocessing_exc_tuple` in IPython 7.17 and above.\n",
      "  and should_run_async(code)\n"
     ]
    }
   ],
   "source": [
    "def parameters_to_latex(parameters, survey):\n",
    "    \"\"\"\n",
    "    Generate a list of latex variables from a set of parameters\n",
    "    \"\"\"\n",
    "    parameters_to_latex = []\n",
    "\n",
    "    for layout in parameters:\n",
    "        for depth_type in parameters[layout]:\n",
    "            for parameter in parameters[layout][depth_type]:\n",
    "\n",
    "                if parameter == \"depth_type\":\n",
    "                    continue\n",
    "                elif parameter == \"damping\":\n",
    "                    values = create_loglist(parameters[layout][depth_type][parameter])\n",
    "                else:\n",
    "                    values = list_to_latex(parameters[layout][depth_type][parameter])\n",
    "                variable_name = format_variable_name(\n",
    "                    \"_\".join([survey, layout, depth_type, parameter])\n",
    "                )\n",
    "                parameters_to_latex.append(\n",
    "                    r\"\\newcommand{{\\{variable_name}}}{{{values}}}\".format(\n",
    "                        variable_name=variable_name, values=values\n",
    "                    )\n",
    "                )\n",
    "    return parameters_to_latex\n",
    "\n",
    "\n",
    "def format_damping(variable_name, value):\n",
    "    \"\"\"\n",
    "    Convert damping to a LaTeX variable\n",
    "    \"\"\"\n",
    "    variable_name = format_variable_name(variable_name)\n",
    "    value = format_power_of_ten(value)\n",
    "    return r\"\\newcommand{{\\{variable_name}}}{{{value}}}\".format(\n",
    "        variable_name=variable_name, value=value\n",
    "    )\n",
    "\n",
    "\n",
    "def best_parameters_to_latex(parameters, survey):\n",
    "    \"\"\"\n",
    "    Convert best parameters to LaTeX variables\n",
    "\n",
    "    Parameters\n",
    "    ----------\n",
    "    parameters : dict\n",
    "        Dictionary containing the parameters of the best prediction.\n",
    "    survey : str\n",
    "        Name of the gridded survey. Eg. ``\"ground\"``, ``\"airborne\"``.\n",
    "    \"\"\"\n",
    "    latex_variables = []\n",
    "    layout = parameters[\"layout\"]\n",
    "    depth_type = parameters[\"depth_type\"]\n",
    "    for key, value in parameters.items():\n",
    "        if key in [\"metadata\", \"depth_type\", \"layout\"]:\n",
    "            continue\n",
    "\n",
    "        variable_name = \"_\".join([\"best\", survey, layout, depth_type, key])\n",
    "        if key == \"damping\":\n",
    "            variable = format_damping(variable_name, value)\n",
    "        elif key == \"rms\":\n",
    "            variable = create_latex_variable(variable_name, value, fmt=\".2f\")\n",
    "        else:\n",
    "            variable = create_latex_variable(variable_name, value)\n",
    "        latex_variables.append(variable)\n",
    "    return latex_variables"
   ]
  },
  {
   "cell_type": "markdown",
   "metadata": {},
   "source": [
    "## Define results and manuscript directories"
   ]
  },
  {
   "cell_type": "code",
   "execution_count": 3,
   "metadata": {},
   "outputs": [],
   "source": [
    "results_dir = Path(\"..\") / \"results\"\n",
    "manuscript_dir = Path(\"..\") / \"manuscript\" / \"results\"\n",
    "ground_results_dir = results_dir / \"ground_survey\"\n",
    "airborne_results_dir = results_dir / \"airborne_survey\""
   ]
  },
  {
   "cell_type": "markdown",
   "metadata": {},
   "source": [
    "## Source layouts schematics"
   ]
  },
  {
   "cell_type": "code",
   "execution_count": 4,
   "metadata": {},
   "outputs": [],
   "source": [
    "json_file = results_dir / \"source-layouts-schematics.json\"\n",
    "tex_file = manuscript_dir / \"source-layouts-schematics.tex\"\n",
    "\n",
    "with open(json_file, \"r\") as f:\n",
    "    variables = json.loads(f.read())"
   ]
  },
  {
   "cell_type": "code",
   "execution_count": 5,
   "metadata": {},
   "outputs": [],
   "source": [
    "latex_variables = [\n",
    "    create_latex_variable(key, value) for key, value in variables.items()\n",
    "]\n",
    "with open(tex_file, \"w\") as f:\n",
    "    f.write(\"\\n\".join(latex_variables))"
   ]
  },
  {
   "cell_type": "markdown",
   "metadata": {},
   "source": [
    "## Synthetic survey and target grid"
   ]
  },
  {
   "cell_type": "code",
   "execution_count": 6,
   "metadata": {},
   "outputs": [],
   "source": [
    "json_file = results_dir / \"synthetic-surveys.json\"\n",
    "tex_file = manuscript_dir / \"synthetic-surveys.tex\"\n",
    "\n",
    "with open(json_file, \"r\") as f:\n",
    "    variables = json.loads(f.read())"
   ]
  },
  {
   "cell_type": "code",
   "execution_count": 7,
   "metadata": {},
   "outputs": [],
   "source": [
    "units = variables.copy()\n",
    "\n",
    "units[\"n_prisms\"] = None\n",
    "units[\"model_easting\"] = \"m\"\n",
    "units[\"model_northing\"] = \"m\"\n",
    "units[\"model_depth\"] = \"m\"\n",
    "units[\"model_min_density\"] = \"kg m-3\"\n",
    "units[\"model_max_density\"] = \"kg m-3\"\n",
    "units[\"survey_easting\"] = \"m\"\n",
    "units[\"survey_northing\"] = \"m\"\n",
    "units[\"survey_noise\"] = \"mGal\"\n",
    "units[\"ground_survey_points\"] = None\n",
    "units[\"ground_survey_min_height\"] = \"m\"\n",
    "units[\"ground_survey_max_height\"] = \"m\"\n",
    "units[\"airborne_survey_points\"] = None\n",
    "units[\"airborne_survey_min_height\"] = \"m\"\n",
    "units[\"airborne_survey_max_height\"] = \"m\"\n",
    "units[\"target_height\"] = \"m\"\n",
    "units[\"target_spacing\"] = \"m\"\n",
    "units[\"target_easting_size\"] = None\n",
    "units[\"target_northing_size\"] = None"
   ]
  },
  {
   "cell_type": "code",
   "execution_count": 8,
   "metadata": {},
   "outputs": [
    {
     "data": {
      "text/plain": [
       "['\\\\newcommand{\\\\NPrisms}{64}',\n",
       " '\\\\newcommand{\\\\ModelEasting}{$111319 \\\\, \\\\text{m}$}',\n",
       " '\\\\newcommand{\\\\ModelNorthing}{$111319 \\\\, \\\\text{m}$}',\n",
       " '\\\\newcommand{\\\\ModelDepth}{$10000 \\\\, \\\\text{m}$}',\n",
       " '\\\\newcommand{\\\\ModelMinDensity}{$-900 \\\\, \\\\text{kg} \\\\, \\\\text{m}^{-3}$}',\n",
       " '\\\\newcommand{\\\\ModelMaxDensity}{$500 \\\\, \\\\text{kg} \\\\, \\\\text{m}^{-3}$}',\n",
       " '\\\\newcommand{\\\\SurveyEasting}{$111319 \\\\, \\\\text{m}$}',\n",
       " '\\\\newcommand{\\\\SurveyNorthing}{$110576 \\\\, \\\\text{m}$}',\n",
       " '\\\\newcommand{\\\\SurveyNoise}{$1 \\\\, \\\\text{mGal}$}',\n",
       " '\\\\newcommand{\\\\GroundSurveyPoints}{963}',\n",
       " '\\\\newcommand{\\\\GroundSurveyMinHeight}{$0 \\\\, \\\\text{m}$}',\n",
       " '\\\\newcommand{\\\\GroundSurveyMaxHeight}{$2052.2 \\\\, \\\\text{m}$}',\n",
       " '\\\\newcommand{\\\\AirborneSurveyPoints}{5673}',\n",
       " '\\\\newcommand{\\\\AirborneSurveyMinHeight}{$359 \\\\, \\\\text{m}$}',\n",
       " '\\\\newcommand{\\\\AirborneSurveyMaxHeight}{$1255 \\\\, \\\\text{m}$}',\n",
       " '\\\\newcommand{\\\\TargetHeight}{$2000 \\\\, \\\\text{m}$}',\n",
       " '\\\\newcommand{\\\\TargetSpacing}{$2 \\\\, \\\\text{m}$}',\n",
       " '\\\\newcommand{\\\\TargetEastingSize}{57}',\n",
       " '\\\\newcommand{\\\\TargetNorthingSize}{56}']"
      ]
     },
     "metadata": {},
     "output_type": "display_data"
    }
   ],
   "source": [
    "latex_variables = [\n",
    "    create_latex_variable(key, value, unit=units[key])\n",
    "    for key, value in variables.items()\n",
    "]\n",
    "display(latex_variables)"
   ]
  },
  {
   "cell_type": "code",
   "execution_count": 9,
   "metadata": {},
   "outputs": [],
   "source": [
    "with open(tex_file, \"w\") as f:\n",
    "    f.write(\"\\n\".join(latex_variables))"
   ]
  },
  {
   "cell_type": "markdown",
   "metadata": {},
   "source": [
    "## Gridding ground survey"
   ]
  },
  {
   "cell_type": "code",
   "execution_count": 10,
   "metadata": {},
   "outputs": [],
   "source": [
    "json_file = results_dir / \"parameters-ground-survey.json\"\n",
    "tex_file = manuscript_dir / \"parameters-ground-survey.tex\"\n",
    "\n",
    "with open(json_file, \"r\") as f:\n",
    "    parameters = json.loads(f.read())"
   ]
  },
  {
   "cell_type": "code",
   "execution_count": 11,
   "metadata": {},
   "outputs": [
    {
     "data": {
      "text/plain": [
       "['\\\\newcommand{\\\\GroundSourceBelowDataConstantDepthDamping}{10$^{-4}$, 10$^{-3}$,$\\\\dots$, 10$^{2}$}',\n",
       " '\\\\newcommand{\\\\GroundSourceBelowDataConstantDepthDepth}{1000 to 17000, step size 2000}',\n",
       " '\\\\newcommand{\\\\GroundSourceBelowDataRelativeDepthDamping}{10$^{-4}$, 10$^{-3}$,$\\\\dots$, 10$^{2}$}',\n",
       " '\\\\newcommand{\\\\GroundSourceBelowDataRelativeDepthDepth}{1000 to 17000, step size 2000}',\n",
       " '\\\\newcommand{\\\\GroundSourceBelowDataVariableDepthDamping}{10$^{-4}$, 10$^{-3}$,$\\\\dots$, 10$^{2}$}',\n",
       " '\\\\newcommand{\\\\GroundSourceBelowDataVariableDepthDepthFactor}{0.1, 0.5, 1, 2, 3, 4, 5 and 6}',\n",
       " '\\\\newcommand{\\\\GroundSourceBelowDataVariableDepthDepth}{0 to 1400, step size 200}',\n",
       " '\\\\newcommand{\\\\GroundSourceBelowDataVariableDepthKNearest}{1, 5, 10 and 15}',\n",
       " '\\\\newcommand{\\\\GroundBlockAveragedSourcesConstantDepthDamping}{10$^{-4}$, 10$^{-3}$,$\\\\dots$, 10$^{2}$}',\n",
       " '\\\\newcommand{\\\\GroundBlockAveragedSourcesConstantDepthDepth}{1000 to 17000, step size 2000}',\n",
       " '\\\\newcommand{\\\\GroundBlockAveragedSourcesConstantDepthSpacing}{1000, 2000, 3000 and 4000}',\n",
       " '\\\\newcommand{\\\\GroundBlockAveragedSourcesRelativeDepthDamping}{10$^{-4}$, 10$^{-3}$,$\\\\dots$, 10$^{2}$}',\n",
       " '\\\\newcommand{\\\\GroundBlockAveragedSourcesRelativeDepthDepth}{1000 to 17000, step size 2000}',\n",
       " '\\\\newcommand{\\\\GroundBlockAveragedSourcesRelativeDepthSpacing}{1000, 2000, 3000 and 4000}',\n",
       " '\\\\newcommand{\\\\GroundBlockAveragedSourcesVariableDepthDamping}{10$^{-4}$, 10$^{-3}$,$\\\\dots$, 10$^{2}$}',\n",
       " '\\\\newcommand{\\\\GroundBlockAveragedSourcesVariableDepthSpacing}{1000, 2000, 3000 and 4000}',\n",
       " '\\\\newcommand{\\\\GroundBlockAveragedSourcesVariableDepthDepthFactor}{0.1, 0.5, 1, 2, 3, 4, 5 and 6}',\n",
       " '\\\\newcommand{\\\\GroundBlockAveragedSourcesVariableDepthDepth}{0 to 1400, step size 200}',\n",
       " '\\\\newcommand{\\\\GroundBlockAveragedSourcesVariableDepthKNearest}{1, 5, 10 and 15}',\n",
       " '\\\\newcommand{\\\\GroundGridSourcesConstantDepthDamping}{10$^{1}$, 10$^{2}$, 10$^{3}$ and 10$^{4}$}',\n",
       " '\\\\newcommand{\\\\GroundGridSourcesConstantDepthDepth}{1000 to 9000, step size 2000}',\n",
       " '\\\\newcommand{\\\\GroundGridSourcesConstantDepthSpacing}{1000, 2000, 3000 and 4000}']"
      ]
     },
     "metadata": {},
     "output_type": "display_data"
    }
   ],
   "source": [
    "latex_variables = parameters_to_latex(parameters, survey=\"ground\")\n",
    "display(latex_variables)"
   ]
  },
  {
   "cell_type": "code",
   "execution_count": 12,
   "metadata": {},
   "outputs": [],
   "source": [
    "with open(tex_file, \"w\") as f:\n",
    "    f.write(\"\\n\".join(latex_variables))"
   ]
  },
  {
   "cell_type": "markdown",
   "metadata": {},
   "source": [
    "### Ground survey: best predictions"
   ]
  },
  {
   "cell_type": "code",
   "execution_count": 13,
   "metadata": {},
   "outputs": [],
   "source": [
    "best_predictions = [\n",
    "    xr.open_dataset(f)\n",
    "    for f in ground_results_dir.iterdir()\n",
    "    if \"best_predictions\" in f.name\n",
    "]\n",
    "\n",
    "latex_variables = []\n",
    "for dataset in best_predictions:\n",
    "    for array in dataset:\n",
    "        latex_variables.extend(\n",
    "            best_parameters_to_latex(dataset[array].attrs, survey=\"ground\")\n",
    "        )\n",
    "\n",
    "tex_file = manuscript_dir / \"best-parameters-ground-survey.tex\"\n",
    "with open(tex_file, \"w\") as f:\n",
    "    f.write(\"\\n\".join(latex_variables))"
   ]
  },
  {
   "cell_type": "markdown",
   "metadata": {},
   "source": [
    "## Gridding airborne survey"
   ]
  },
  {
   "cell_type": "code",
   "execution_count": 14,
   "metadata": {},
   "outputs": [],
   "source": [
    "json_file = results_dir / \"parameters-airborne-survey.json\"\n",
    "tex_file = manuscript_dir / \"parameters-airborne-survey.tex\"\n",
    "\n",
    "with open(json_file, \"r\") as f:\n",
    "    parameters = json.loads(f.read())"
   ]
  },
  {
   "cell_type": "code",
   "execution_count": 15,
   "metadata": {},
   "outputs": [
    {
     "data": {
      "text/plain": [
       "['\\\\newcommand{\\\\AirborneSourceBelowDataConstantDepthDamping}{10$^{-4}$, 10$^{-3}$,$\\\\dots$, 10$^{2}$}',\n",
       " '\\\\newcommand{\\\\AirborneSourceBelowDataConstantDepthDepth}{1000 to 17000, step size 2000}',\n",
       " '\\\\newcommand{\\\\AirborneSourceBelowDataRelativeDepthDamping}{10$^{-4}$, 10$^{-3}$,$\\\\dots$, 10$^{2}$}',\n",
       " '\\\\newcommand{\\\\AirborneSourceBelowDataRelativeDepthDepth}{1000 to 17000, step size 2000}',\n",
       " '\\\\newcommand{\\\\AirborneSourceBelowDataVariableDepthDamping}{10$^{-4}$, 10$^{-3}$,$\\\\dots$, 10$^{2}$}',\n",
       " '\\\\newcommand{\\\\AirborneSourceBelowDataVariableDepthDepthFactor}{1 to 6, step size 1}',\n",
       " '\\\\newcommand{\\\\AirborneSourceBelowDataVariableDepthDepth}{50 to 1450, step size 200}',\n",
       " '\\\\newcommand{\\\\AirborneSourceBelowDataVariableDepthKNearest}{1, 5, 10 and 15}',\n",
       " '\\\\newcommand{\\\\AirborneBlockAveragedSourcesConstantDepthDamping}{10$^{-4}$, 10$^{-3}$,$\\\\dots$, 10$^{2}$}',\n",
       " '\\\\newcommand{\\\\AirborneBlockAveragedSourcesConstantDepthDepth}{1000 to 17000, step size 2000}',\n",
       " '\\\\newcommand{\\\\AirborneBlockAveragedSourcesConstantDepthSpacing}{1000, 2000, 3000 and 4000}',\n",
       " '\\\\newcommand{\\\\AirborneBlockAveragedSourcesRelativeDepthDamping}{10$^{-4}$, 10$^{-3}$,$\\\\dots$, 10$^{2}$}',\n",
       " '\\\\newcommand{\\\\AirborneBlockAveragedSourcesRelativeDepthDepth}{1000 to 17000, step size 2000}',\n",
       " '\\\\newcommand{\\\\AirborneBlockAveragedSourcesRelativeDepthSpacing}{1000, 2000, 3000 and 4000}',\n",
       " '\\\\newcommand{\\\\AirborneBlockAveragedSourcesVariableDepthDamping}{10$^{-4}$, 10$^{-3}$,$\\\\dots$, 10$^{2}$}',\n",
       " '\\\\newcommand{\\\\AirborneBlockAveragedSourcesVariableDepthSpacing}{1000, 2000, 3000 and 4000}',\n",
       " '\\\\newcommand{\\\\AirborneBlockAveragedSourcesVariableDepthDepthFactor}{1 to 6, step size 1}',\n",
       " '\\\\newcommand{\\\\AirborneBlockAveragedSourcesVariableDepthDepth}{50 to 1450, step size 200}',\n",
       " '\\\\newcommand{\\\\AirborneBlockAveragedSourcesVariableDepthKNearest}{1, 5, 10 and 15}',\n",
       " '\\\\newcommand{\\\\AirborneGridSourcesConstantDepthDamping}{10$^{1}$, 10$^{2}$, 10$^{3}$ and 10$^{4}$}',\n",
       " '\\\\newcommand{\\\\AirborneGridSourcesConstantDepthDepth}{1000 to 9000, step size 2000}',\n",
       " '\\\\newcommand{\\\\AirborneGridSourcesConstantDepthSpacing}{1000, 2000 and 3000}']"
      ]
     },
     "metadata": {},
     "output_type": "display_data"
    }
   ],
   "source": [
    "latex_variables = parameters_to_latex(parameters, survey=\"airborne\")\n",
    "display(latex_variables)"
   ]
  },
  {
   "cell_type": "code",
   "execution_count": 16,
   "metadata": {},
   "outputs": [],
   "source": [
    "with open(tex_file, \"w\") as f:\n",
    "    f.write(\"\\n\".join(latex_variables))"
   ]
  },
  {
   "cell_type": "markdown",
   "metadata": {},
   "source": [
    "### Airborne survey: best predictions"
   ]
  },
  {
   "cell_type": "code",
   "execution_count": 17,
   "metadata": {},
   "outputs": [],
   "source": [
    "best_predictions = [\n",
    "    xr.open_dataset(f)\n",
    "    for f in airborne_results_dir.iterdir()\n",
    "    if \"best_predictions\" in f.name\n",
    "]\n",
    "\n",
    "latex_variables = []\n",
    "for dataset in best_predictions:\n",
    "    for array in dataset:\n",
    "        latex_variables.extend(\n",
    "            best_parameters_to_latex(dataset[array].attrs, survey=\"airborne\")\n",
    "        )\n",
    "\n",
    "tex_file = manuscript_dir / \"best-parameters-airborne-survey.tex\"\n",
    "with open(tex_file, \"w\") as f:\n",
    "    f.write(\"\\n\".join(latex_variables))"
   ]
  },
  {
   "cell_type": "markdown",
   "metadata": {},
   "source": [
    "## Gradient boosted sources"
   ]
  },
  {
   "cell_type": "code",
   "execution_count": 18,
   "metadata": {},
   "outputs": [],
   "source": [
    "json_file = results_dir / \"boost-overlapping.json\"\n",
    "tex_file = manuscript_dir / \"boost-overlapping.tex\"\n",
    "\n",
    "with open(json_file, \"r\") as f:\n",
    "    variables = json.loads(f.read())\n",
    "\n",
    "units[\"boost_overlapping_window_size\"] = \"m\""
   ]
  },
  {
   "cell_type": "code",
   "execution_count": 19,
   "metadata": {},
   "outputs": [
    {
     "data": {
      "text/plain": [
       "['\\\\newcommand{\\\\BoostOverlappingWindowSize}{$30000 \\\\, \\\\text{m}$}']"
      ]
     },
     "metadata": {},
     "output_type": "display_data"
    }
   ],
   "source": [
    "latex_variables = [\n",
    "    create_latex_variable(key, value, unit=units[key])\n",
    "    for key, value in variables.items()\n",
    "]\n",
    "display(latex_variables)"
   ]
  },
  {
   "cell_type": "code",
   "execution_count": 20,
   "metadata": {},
   "outputs": [],
   "source": [
    "with open(tex_file, \"w\") as f:\n",
    "    f.write(\"\\n\".join(latex_variables))"
   ]
  },
  {
   "cell_type": "markdown",
   "metadata": {},
   "source": [
    "## Australia gravity"
   ]
  },
  {
   "cell_type": "code",
   "execution_count": 21,
   "metadata": {},
   "outputs": [],
   "source": [
    "json_file = results_dir / \"australia.json\"\n",
    "tex_file = manuscript_dir / \"australia.tex\"\n",
    "\n",
    "with open(json_file, \"r\") as f:\n",
    "    variables = json.loads(f.read())\n",
    "\n",
    "variables[\"australia_eql_window_size\"] *= 1e-3\n",
    "\n",
    "units[\"australia_eql_depth\"] = \"m\"\n",
    "units[\"australia_eql_damping\"] = None\n",
    "units[\"australia_eql_spacing\"] = \"m\"\n",
    "units[\"australia_eql_window_size\"] = \"km\"\n",
    "units[\"australia_eql_n_sources\"] = None\n",
    "units[\"australia_eql_grid_n_longitude\"] = None\n",
    "units[\"australia_eql_grid_n_latitude\"] = None\n",
    "units[\"australia_eql_grid_height\"] = \"m\""
   ]
  },
  {
   "cell_type": "code",
   "execution_count": 22,
   "metadata": {},
   "outputs": [
    {
     "data": {
      "text/plain": [
       "['\\\\newcommand{\\\\AustraliaEqlDepth}{$4000 \\\\, \\\\text{m}$}',\n",
       " '\\\\newcommand{\\\\AustraliaEqlDamping}{100}',\n",
       " '\\\\newcommand{\\\\AustraliaEqlSpacing}{$1800 \\\\, \\\\text{m}$}',\n",
       " '\\\\newcommand{\\\\AustraliaEqlWindowSize}{$225 \\\\, \\\\text{km}$}',\n",
       " '\\\\newcommand{\\\\AustraliaEqlNSources}{796744}',\n",
       " '\\\\newcommand{\\\\AustraliaEqlGridNLongitude}{2442}',\n",
       " '\\\\newcommand{\\\\AustraliaEqlGridNLatitude}{2085}',\n",
       " '\\\\newcommand{\\\\AustraliaEqlGridHeight}{$2127.58 \\\\, \\\\text{m}$}']"
      ]
     },
     "metadata": {},
     "output_type": "display_data"
    }
   ],
   "source": [
    "latex_variables = [\n",
    "    create_latex_variable(key, value, unit=units[key])\n",
    "    for key, value in variables.items()\n",
    "]\n",
    "display(latex_variables)"
   ]
  },
  {
   "cell_type": "code",
   "execution_count": 23,
   "metadata": {},
   "outputs": [],
   "source": [
    "with open(tex_file, \"w\") as f:\n",
    "    f.write(\"\\n\".join(latex_variables))"
   ]
  }
 ],
 "metadata": {
  "jupytext": {
   "formats": "ipynb,py:light"
  },
  "kernelspec": {
   "display_name": "Python [conda env:eql-gradient-boosted]",
   "language": "python",
   "name": "conda-env-eql-gradient-boosted-py"
  },
  "language_info": {
   "codemirror_mode": {
    "name": "ipython",
    "version": 3
   },
   "file_extension": ".py",
   "mimetype": "text/x-python",
   "name": "python",
   "nbconvert_exporter": "python",
   "pygments_lexer": "ipython3",
   "version": "3.7.8"
  }
 },
 "nbformat": 4,
 "nbformat_minor": 4
}
