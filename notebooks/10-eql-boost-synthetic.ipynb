{
 "cells": [
  {
   "cell_type": "markdown",
   "metadata": {},
   "source": [
    "# Grid synthetic airborne survey with iterative equivalent layer"
   ]
  },
  {
   "cell_type": "markdown",
   "metadata": {},
   "source": [
    "**Import useful packages**"
   ]
  },
  {
   "cell_type": "code",
   "execution_count": 1,
   "metadata": {
    "tags": []
   },
   "outputs": [],
   "source": [
    "from pathlib import Path\n",
    "import numpy as np\n",
    "import pandas as pd\n",
    "import xarray as xr\n",
    "import verde as vd\n",
    "import matplotlib.pyplot as plt\n",
    "from sklearn.metrics import mean_squared_error\n",
    "\n",
    "from boost_and_layouts import (\n",
    "    block_averaged_sources,\n",
    "    combine_parameters,\n",
    "    EQLHarmonicBoost,\n",
    "    save_to_json,\n",
    ")\n"
   ]
  },
  {
   "cell_type": "markdown",
   "metadata": {},
   "source": [
    "**Define results directory**"
   ]
  },
  {
   "cell_type": "code",
   "execution_count": 2,
   "metadata": {
    "tags": []
   },
   "outputs": [],
   "source": [
    "results_dir = Path(\"..\") / \"results\"\n",
    "airborne_results_dir = results_dir / \"airborne_survey\"\n",
    "eql_boost_results_dir = results_dir / \"eql-boost\""
   ]
  },
  {
   "cell_type": "markdown",
   "metadata": {},
   "source": [
    "**Define which field will be meassured**"
   ]
  },
  {
   "cell_type": "code",
   "execution_count": 3,
   "metadata": {
    "tags": []
   },
   "outputs": [],
   "source": [
    "field = \"g_z\"\n",
    "field_units = \"mGal\""
   ]
  },
  {
   "cell_type": "markdown",
   "metadata": {},
   "source": [
    "## Read synthetic airborne survey and target grid"
   ]
  },
  {
   "cell_type": "markdown",
   "metadata": {},
   "source": [
    "Read airborne survey"
   ]
  },
  {
   "cell_type": "code",
   "execution_count": 4,
   "metadata": {
    "tags": []
   },
   "outputs": [
    {
     "data": {
      "text/html": [
       "<div>\n",
       "<style scoped>\n",
       "    .dataframe tbody tr th:only-of-type {\n",
       "        vertical-align: middle;\n",
       "    }\n",
       "\n",
       "    .dataframe tbody tr th {\n",
       "        vertical-align: top;\n",
       "    }\n",
       "\n",
       "    .dataframe thead th {\n",
       "        text-align: right;\n",
       "    }\n",
       "</style>\n",
       "<table border=\"1\" class=\"dataframe\">\n",
       "  <thead>\n",
       "    <tr style=\"text-align: right;\">\n",
       "      <th></th>\n",
       "      <th>longitude</th>\n",
       "      <th>latitude</th>\n",
       "      <th>height</th>\n",
       "      <th>easting</th>\n",
       "      <th>northing</th>\n",
       "      <th>g_z</th>\n",
       "    </tr>\n",
       "  </thead>\n",
       "  <tbody>\n",
       "    <tr>\n",
       "      <th>0</th>\n",
       "      <td>-0.496429</td>\n",
       "      <td>0.497339</td>\n",
       "      <td>633.0</td>\n",
       "      <td>-55262.223508</td>\n",
       "      <td>54993.627800</td>\n",
       "      <td>3.654625</td>\n",
       "    </tr>\n",
       "    <tr>\n",
       "      <th>1</th>\n",
       "      <td>-0.495559</td>\n",
       "      <td>0.497999</td>\n",
       "      <td>644.0</td>\n",
       "      <td>-55165.348426</td>\n",
       "      <td>55066.630053</td>\n",
       "      <td>2.503813</td>\n",
       "    </tr>\n",
       "    <tr>\n",
       "      <th>2</th>\n",
       "      <td>-0.493218</td>\n",
       "      <td>0.497479</td>\n",
       "      <td>646.0</td>\n",
       "      <td>-54904.787861</td>\n",
       "      <td>55009.113126</td>\n",
       "      <td>2.873545</td>\n",
       "    </tr>\n",
       "    <tr>\n",
       "      <th>3</th>\n",
       "      <td>-0.482725</td>\n",
       "      <td>0.497679</td>\n",
       "      <td>663.0</td>\n",
       "      <td>-53736.719343</td>\n",
       "      <td>55031.235020</td>\n",
       "      <td>3.125810</td>\n",
       "    </tr>\n",
       "    <tr>\n",
       "      <th>4</th>\n",
       "      <td>-0.478464</td>\n",
       "      <td>0.497719</td>\n",
       "      <td>672.0</td>\n",
       "      <td>-53262.365493</td>\n",
       "      <td>55035.659399</td>\n",
       "      <td>4.717045</td>\n",
       "    </tr>\n",
       "    <tr>\n",
       "      <th>...</th>\n",
       "      <td>...</td>\n",
       "      <td>...</td>\n",
       "      <td>...</td>\n",
       "      <td>...</td>\n",
       "      <td>...</td>\n",
       "      <td>...</td>\n",
       "    </tr>\n",
       "    <tr>\n",
       "      <th>5668</th>\n",
       "      <td>-0.416257</td>\n",
       "      <td>0.155824</td>\n",
       "      <td>1070.0</td>\n",
       "      <td>-46337.467390</td>\n",
       "      <td>17230.106636</td>\n",
       "      <td>10.041573</td>\n",
       "    </tr>\n",
       "    <tr>\n",
       "      <th>5669</th>\n",
       "      <td>-0.258422</td>\n",
       "      <td>0.271476</td>\n",
       "      <td>1087.0</td>\n",
       "      <td>-28767.445331</td>\n",
       "      <td>30018.377395</td>\n",
       "      <td>15.431621</td>\n",
       "    </tr>\n",
       "    <tr>\n",
       "      <th>5670</th>\n",
       "      <td>-0.258652</td>\n",
       "      <td>0.277958</td>\n",
       "      <td>1126.0</td>\n",
       "      <td>-28793.055985</td>\n",
       "      <td>30735.107734</td>\n",
       "      <td>14.078125</td>\n",
       "    </tr>\n",
       "    <tr>\n",
       "      <th>5671</th>\n",
       "      <td>-0.258983</td>\n",
       "      <td>0.287360</td>\n",
       "      <td>1106.0</td>\n",
       "      <td>-28829.801706</td>\n",
       "      <td>31774.809862</td>\n",
       "      <td>15.672714</td>\n",
       "    </tr>\n",
       "    <tr>\n",
       "      <th>5672</th>\n",
       "      <td>-0.091436</td>\n",
       "      <td>0.218341</td>\n",
       "      <td>1056.0</td>\n",
       "      <td>-10178.564652</td>\n",
       "      <td>24142.972158</td>\n",
       "      <td>16.360158</td>\n",
       "    </tr>\n",
       "  </tbody>\n",
       "</table>\n",
       "<p>5673 rows × 6 columns</p>\n",
       "</div>"
      ],
      "text/plain": [
       "      longitude  latitude  height       easting      northing        g_z\n",
       "0     -0.496429  0.497339   633.0 -55262.223508  54993.627800   3.654625\n",
       "1     -0.495559  0.497999   644.0 -55165.348426  55066.630053   2.503813\n",
       "2     -0.493218  0.497479   646.0 -54904.787861  55009.113126   2.873545\n",
       "3     -0.482725  0.497679   663.0 -53736.719343  55031.235020   3.125810\n",
       "4     -0.478464  0.497719   672.0 -53262.365493  55035.659399   4.717045\n",
       "...         ...       ...     ...           ...           ...        ...\n",
       "5668  -0.416257  0.155824  1070.0 -46337.467390  17230.106636  10.041573\n",
       "5669  -0.258422  0.271476  1087.0 -28767.445331  30018.377395  15.431621\n",
       "5670  -0.258652  0.277958  1126.0 -28793.055985  30735.107734  14.078125\n",
       "5671  -0.258983  0.287360  1106.0 -28829.801706  31774.809862  15.672714\n",
       "5672  -0.091436  0.218341  1056.0 -10178.564652  24142.972158  16.360158\n",
       "\n",
       "[5673 rows x 6 columns]"
      ]
     },
     "execution_count": 4,
     "metadata": {},
     "output_type": "execute_result"
    }
   ],
   "source": [
    "survey = pd.read_csv(airborne_results_dir / \"survey.csv\")\n",
    "survey"
   ]
  },
  {
   "cell_type": "markdown",
   "metadata": {},
   "source": [
    "Read target grid"
   ]
  },
  {
   "cell_type": "code",
   "execution_count": 5,
   "metadata": {
    "tags": []
   },
   "outputs": [
    {
     "data": {
      "text/html": [
       "<div><svg style=\"position: absolute; width: 0; height: 0; overflow: hidden\">\n",
       "<defs>\n",
       "<symbol id=\"icon-database\" viewBox=\"0 0 32 32\">\n",
       "<path d=\"M16 0c-8.837 0-16 2.239-16 5v4c0 2.761 7.163 5 16 5s16-2.239 16-5v-4c0-2.761-7.163-5-16-5z\"></path>\n",
       "<path d=\"M16 17c-8.837 0-16-2.239-16-5v6c0 2.761 7.163 5 16 5s16-2.239 16-5v-6c0 2.761-7.163 5-16 5z\"></path>\n",
       "<path d=\"M16 26c-8.837 0-16-2.239-16-5v6c0 2.761 7.163 5 16 5s16-2.239 16-5v-6c0 2.761-7.163 5-16 5z\"></path>\n",
       "</symbol>\n",
       "<symbol id=\"icon-file-text2\" viewBox=\"0 0 32 32\">\n",
       "<path d=\"M28.681 7.159c-0.694-0.947-1.662-2.053-2.724-3.116s-2.169-2.030-3.116-2.724c-1.612-1.182-2.393-1.319-2.841-1.319h-15.5c-1.378 0-2.5 1.121-2.5 2.5v27c0 1.378 1.122 2.5 2.5 2.5h23c1.378 0 2.5-1.122 2.5-2.5v-19.5c0-0.448-0.137-1.23-1.319-2.841zM24.543 5.457c0.959 0.959 1.712 1.825 2.268 2.543h-4.811v-4.811c0.718 0.556 1.584 1.309 2.543 2.268zM28 29.5c0 0.271-0.229 0.5-0.5 0.5h-23c-0.271 0-0.5-0.229-0.5-0.5v-27c0-0.271 0.229-0.5 0.5-0.5 0 0 15.499-0 15.5 0v7c0 0.552 0.448 1 1 1h7v19.5z\"></path>\n",
       "<path d=\"M23 26h-14c-0.552 0-1-0.448-1-1s0.448-1 1-1h14c0.552 0 1 0.448 1 1s-0.448 1-1 1z\"></path>\n",
       "<path d=\"M23 22h-14c-0.552 0-1-0.448-1-1s0.448-1 1-1h14c0.552 0 1 0.448 1 1s-0.448 1-1 1z\"></path>\n",
       "<path d=\"M23 18h-14c-0.552 0-1-0.448-1-1s0.448-1 1-1h14c0.552 0 1 0.448 1 1s-0.448 1-1 1z\"></path>\n",
       "</symbol>\n",
       "</defs>\n",
       "</svg>\n",
       "<style>/* CSS stylesheet for displaying xarray objects in jupyterlab.\n",
       " *\n",
       " */\n",
       "\n",
       ":root {\n",
       "  --xr-font-color0: var(--jp-content-font-color0, rgba(0, 0, 0, 1));\n",
       "  --xr-font-color2: var(--jp-content-font-color2, rgba(0, 0, 0, 0.54));\n",
       "  --xr-font-color3: var(--jp-content-font-color3, rgba(0, 0, 0, 0.38));\n",
       "  --xr-border-color: var(--jp-border-color2, #e0e0e0);\n",
       "  --xr-disabled-color: var(--jp-layout-color3, #bdbdbd);\n",
       "  --xr-background-color: var(--jp-layout-color0, white);\n",
       "  --xr-background-color-row-even: var(--jp-layout-color1, white);\n",
       "  --xr-background-color-row-odd: var(--jp-layout-color2, #eeeeee);\n",
       "}\n",
       "\n",
       "html[theme=dark],\n",
       "body.vscode-dark {\n",
       "  --xr-font-color0: rgba(255, 255, 255, 1);\n",
       "  --xr-font-color2: rgba(255, 255, 255, 0.54);\n",
       "  --xr-font-color3: rgba(255, 255, 255, 0.38);\n",
       "  --xr-border-color: #1F1F1F;\n",
       "  --xr-disabled-color: #515151;\n",
       "  --xr-background-color: #111111;\n",
       "  --xr-background-color-row-even: #111111;\n",
       "  --xr-background-color-row-odd: #313131;\n",
       "}\n",
       "\n",
       ".xr-wrap {\n",
       "  display: block;\n",
       "  min-width: 300px;\n",
       "  max-width: 700px;\n",
       "}\n",
       "\n",
       ".xr-text-repr-fallback {\n",
       "  /* fallback to plain text repr when CSS is not injected (untrusted notebook) */\n",
       "  display: none;\n",
       "}\n",
       "\n",
       ".xr-header {\n",
       "  padding-top: 6px;\n",
       "  padding-bottom: 6px;\n",
       "  margin-bottom: 4px;\n",
       "  border-bottom: solid 1px var(--xr-border-color);\n",
       "}\n",
       "\n",
       ".xr-header > div,\n",
       ".xr-header > ul {\n",
       "  display: inline;\n",
       "  margin-top: 0;\n",
       "  margin-bottom: 0;\n",
       "}\n",
       "\n",
       ".xr-obj-type,\n",
       ".xr-array-name {\n",
       "  margin-left: 2px;\n",
       "  margin-right: 10px;\n",
       "}\n",
       "\n",
       ".xr-obj-type {\n",
       "  color: var(--xr-font-color2);\n",
       "}\n",
       "\n",
       ".xr-sections {\n",
       "  padding-left: 0 !important;\n",
       "  display: grid;\n",
       "  grid-template-columns: 150px auto auto 1fr 20px 20px;\n",
       "}\n",
       "\n",
       ".xr-section-item {\n",
       "  display: contents;\n",
       "}\n",
       "\n",
       ".xr-section-item input {\n",
       "  display: none;\n",
       "}\n",
       "\n",
       ".xr-section-item input + label {\n",
       "  color: var(--xr-disabled-color);\n",
       "}\n",
       "\n",
       ".xr-section-item input:enabled + label {\n",
       "  cursor: pointer;\n",
       "  color: var(--xr-font-color2);\n",
       "}\n",
       "\n",
       ".xr-section-item input:enabled + label:hover {\n",
       "  color: var(--xr-font-color0);\n",
       "}\n",
       "\n",
       ".xr-section-summary {\n",
       "  grid-column: 1;\n",
       "  color: var(--xr-font-color2);\n",
       "  font-weight: 500;\n",
       "}\n",
       "\n",
       ".xr-section-summary > span {\n",
       "  display: inline-block;\n",
       "  padding-left: 0.5em;\n",
       "}\n",
       "\n",
       ".xr-section-summary-in:disabled + label {\n",
       "  color: var(--xr-font-color2);\n",
       "}\n",
       "\n",
       ".xr-section-summary-in + label:before {\n",
       "  display: inline-block;\n",
       "  content: '►';\n",
       "  font-size: 11px;\n",
       "  width: 15px;\n",
       "  text-align: center;\n",
       "}\n",
       "\n",
       ".xr-section-summary-in:disabled + label:before {\n",
       "  color: var(--xr-disabled-color);\n",
       "}\n",
       "\n",
       ".xr-section-summary-in:checked + label:before {\n",
       "  content: '▼';\n",
       "}\n",
       "\n",
       ".xr-section-summary-in:checked + label > span {\n",
       "  display: none;\n",
       "}\n",
       "\n",
       ".xr-section-summary,\n",
       ".xr-section-inline-details {\n",
       "  padding-top: 4px;\n",
       "  padding-bottom: 4px;\n",
       "}\n",
       "\n",
       ".xr-section-inline-details {\n",
       "  grid-column: 2 / -1;\n",
       "}\n",
       "\n",
       ".xr-section-details {\n",
       "  display: none;\n",
       "  grid-column: 1 / -1;\n",
       "  margin-bottom: 5px;\n",
       "}\n",
       "\n",
       ".xr-section-summary-in:checked ~ .xr-section-details {\n",
       "  display: contents;\n",
       "}\n",
       "\n",
       ".xr-array-wrap {\n",
       "  grid-column: 1 / -1;\n",
       "  display: grid;\n",
       "  grid-template-columns: 20px auto;\n",
       "}\n",
       "\n",
       ".xr-array-wrap > label {\n",
       "  grid-column: 1;\n",
       "  vertical-align: top;\n",
       "}\n",
       "\n",
       ".xr-preview {\n",
       "  color: var(--xr-font-color3);\n",
       "}\n",
       "\n",
       ".xr-array-preview,\n",
       ".xr-array-data {\n",
       "  padding: 0 5px !important;\n",
       "  grid-column: 2;\n",
       "}\n",
       "\n",
       ".xr-array-data,\n",
       ".xr-array-in:checked ~ .xr-array-preview {\n",
       "  display: none;\n",
       "}\n",
       "\n",
       ".xr-array-in:checked ~ .xr-array-data,\n",
       ".xr-array-preview {\n",
       "  display: inline-block;\n",
       "}\n",
       "\n",
       ".xr-dim-list {\n",
       "  display: inline-block !important;\n",
       "  list-style: none;\n",
       "  padding: 0 !important;\n",
       "  margin: 0;\n",
       "}\n",
       "\n",
       ".xr-dim-list li {\n",
       "  display: inline-block;\n",
       "  padding: 0;\n",
       "  margin: 0;\n",
       "}\n",
       "\n",
       ".xr-dim-list:before {\n",
       "  content: '(';\n",
       "}\n",
       "\n",
       ".xr-dim-list:after {\n",
       "  content: ')';\n",
       "}\n",
       "\n",
       ".xr-dim-list li:not(:last-child):after {\n",
       "  content: ',';\n",
       "  padding-right: 5px;\n",
       "}\n",
       "\n",
       ".xr-has-index {\n",
       "  font-weight: bold;\n",
       "}\n",
       "\n",
       ".xr-var-list,\n",
       ".xr-var-item {\n",
       "  display: contents;\n",
       "}\n",
       "\n",
       ".xr-var-item > div,\n",
       ".xr-var-item label,\n",
       ".xr-var-item > .xr-var-name span {\n",
       "  background-color: var(--xr-background-color-row-even);\n",
       "  margin-bottom: 0;\n",
       "}\n",
       "\n",
       ".xr-var-item > .xr-var-name:hover span {\n",
       "  padding-right: 5px;\n",
       "}\n",
       "\n",
       ".xr-var-list > li:nth-child(odd) > div,\n",
       ".xr-var-list > li:nth-child(odd) > label,\n",
       ".xr-var-list > li:nth-child(odd) > .xr-var-name span {\n",
       "  background-color: var(--xr-background-color-row-odd);\n",
       "}\n",
       "\n",
       ".xr-var-name {\n",
       "  grid-column: 1;\n",
       "}\n",
       "\n",
       ".xr-var-dims {\n",
       "  grid-column: 2;\n",
       "}\n",
       "\n",
       ".xr-var-dtype {\n",
       "  grid-column: 3;\n",
       "  text-align: right;\n",
       "  color: var(--xr-font-color2);\n",
       "}\n",
       "\n",
       ".xr-var-preview {\n",
       "  grid-column: 4;\n",
       "}\n",
       "\n",
       ".xr-var-name,\n",
       ".xr-var-dims,\n",
       ".xr-var-dtype,\n",
       ".xr-preview,\n",
       ".xr-attrs dt {\n",
       "  white-space: nowrap;\n",
       "  overflow: hidden;\n",
       "  text-overflow: ellipsis;\n",
       "  padding-right: 10px;\n",
       "}\n",
       "\n",
       ".xr-var-name:hover,\n",
       ".xr-var-dims:hover,\n",
       ".xr-var-dtype:hover,\n",
       ".xr-attrs dt:hover {\n",
       "  overflow: visible;\n",
       "  width: auto;\n",
       "  z-index: 1;\n",
       "}\n",
       "\n",
       ".xr-var-attrs,\n",
       ".xr-var-data {\n",
       "  display: none;\n",
       "  background-color: var(--xr-background-color) !important;\n",
       "  padding-bottom: 5px !important;\n",
       "}\n",
       "\n",
       ".xr-var-attrs-in:checked ~ .xr-var-attrs,\n",
       ".xr-var-data-in:checked ~ .xr-var-data {\n",
       "  display: block;\n",
       "}\n",
       "\n",
       ".xr-var-data > table {\n",
       "  float: right;\n",
       "}\n",
       "\n",
       ".xr-var-name span,\n",
       ".xr-var-data,\n",
       ".xr-attrs {\n",
       "  padding-left: 25px !important;\n",
       "}\n",
       "\n",
       ".xr-attrs,\n",
       ".xr-var-attrs,\n",
       ".xr-var-data {\n",
       "  grid-column: 1 / -1;\n",
       "}\n",
       "\n",
       "dl.xr-attrs {\n",
       "  padding: 0;\n",
       "  margin: 0;\n",
       "  display: grid;\n",
       "  grid-template-columns: 125px auto;\n",
       "}\n",
       "\n",
       ".xr-attrs dt,\n",
       ".xr-attrs dd {\n",
       "  padding: 0;\n",
       "  margin: 0;\n",
       "  float: left;\n",
       "  padding-right: 10px;\n",
       "  width: auto;\n",
       "}\n",
       "\n",
       ".xr-attrs dt {\n",
       "  font-weight: normal;\n",
       "  grid-column: 1;\n",
       "}\n",
       "\n",
       ".xr-attrs dt:hover span {\n",
       "  display: inline-block;\n",
       "  background: var(--xr-background-color);\n",
       "  padding-right: 10px;\n",
       "}\n",
       "\n",
       ".xr-attrs dd {\n",
       "  grid-column: 2;\n",
       "  white-space: pre-wrap;\n",
       "  word-break: break-all;\n",
       "}\n",
       "\n",
       ".xr-icon-database,\n",
       ".xr-icon-file-text2 {\n",
       "  display: inline-block;\n",
       "  vertical-align: middle;\n",
       "  width: 1em;\n",
       "  height: 1.5em !important;\n",
       "  stroke-width: 0;\n",
       "  stroke: currentColor;\n",
       "  fill: currentColor;\n",
       "}\n",
       "</style><pre class='xr-text-repr-fallback'>&lt;xarray.DataArray (northing: 56, easting: 57)&gt;\n",
       "array([[2.942098, 3.335356, 3.699304, ..., 3.534445, 3.187211, 2.824452],\n",
       "       [3.334727, 3.805254, 4.23806 , ..., 4.003668, 3.594596, 3.165999],\n",
       "       [3.697873, 4.237236, 4.731814, ..., 4.442474, 3.976724, 3.488055],\n",
       "       ...,\n",
       "       [4.113125, 4.720134, 5.285468, ..., 4.744527, 4.237688, 3.711379],\n",
       "       [3.717267, 4.247201, 4.740353, ..., 4.301227, 3.852887, 3.387261],\n",
       "       [3.293559, 3.739541, 4.155882, ..., 3.821831, 3.437721, 3.039456]])\n",
       "Coordinates:\n",
       "  * northing  (northing) float64 -5.529e+04 -5.329e+04 ... 5.271e+04 5.471e+04\n",
       "  * easting   (easting) float64 -5.566e+04 -5.366e+04 ... 5.434e+04 5.634e+04\n",
       "Attributes:\n",
       "    height:   2000</pre><div class='xr-wrap' hidden><div class='xr-header'><div class='xr-obj-type'>xarray.DataArray</div><div class='xr-array-name'></div><ul class='xr-dim-list'><li><span class='xr-has-index'>northing</span>: 56</li><li><span class='xr-has-index'>easting</span>: 57</li></ul></div><ul class='xr-sections'><li class='xr-section-item'><div class='xr-array-wrap'><input id='section-b8d74c10-1ca6-4a83-8dac-621ace246582' class='xr-array-in' type='checkbox' checked><label for='section-b8d74c10-1ca6-4a83-8dac-621ace246582' title='Show/hide data repr'><svg class='icon xr-icon-database'><use xlink:href='#icon-database'></use></svg></label><div class='xr-array-preview xr-preview'><span>2.942 3.335 3.699 4.016 4.281 4.498 ... 4.481 4.173 3.822 3.438 3.039</span></div><div class='xr-array-data'><pre>array([[2.942098, 3.335356, 3.699304, ..., 3.534445, 3.187211, 2.824452],\n",
       "       [3.334727, 3.805254, 4.23806 , ..., 4.003668, 3.594596, 3.165999],\n",
       "       [3.697873, 4.237236, 4.731814, ..., 4.442474, 3.976724, 3.488055],\n",
       "       ...,\n",
       "       [4.113125, 4.720134, 5.285468, ..., 4.744527, 4.237688, 3.711379],\n",
       "       [3.717267, 4.247201, 4.740353, ..., 4.301227, 3.852887, 3.387261],\n",
       "       [3.293559, 3.739541, 4.155882, ..., 3.821831, 3.437721, 3.039456]])</pre></div></div></li><li class='xr-section-item'><input id='section-a30754c9-2dc7-43df-b45c-5a84d2b8cd03' class='xr-section-summary-in' type='checkbox'  checked><label for='section-a30754c9-2dc7-43df-b45c-5a84d2b8cd03' class='xr-section-summary' >Coordinates: <span>(2)</span></label><div class='xr-section-inline-details'></div><div class='xr-section-details'><ul class='xr-var-list'><li class='xr-var-item'><div class='xr-var-name'><span class='xr-has-index'>northing</span></div><div class='xr-var-dims'>(northing)</div><div class='xr-var-dtype'>float64</div><div class='xr-var-preview xr-preview'>-5.529e+04 -5.329e+04 ... 5.471e+04</div><input id='attrs-c6e6b588-5f64-4d42-9e34-e4f39a148c90' class='xr-var-attrs-in' type='checkbox' disabled><label for='attrs-c6e6b588-5f64-4d42-9e34-e4f39a148c90' title='Show/Hide attributes'><svg class='icon xr-icon-file-text2'><use xlink:href='#icon-file-text2'></use></svg></label><input id='data-20b103ba-43ab-43e2-8e34-ef4a011fe7aa' class='xr-var-data-in' type='checkbox'><label for='data-20b103ba-43ab-43e2-8e34-ef4a011fe7aa' title='Show/Hide data repr'><svg class='icon xr-icon-database'><use xlink:href='#icon-database'></use></svg></label><div class='xr-var-attrs'><dl class='xr-attrs'></dl></div><div class='xr-var-data'><pre>array([-55287.849046, -53287.849046, -51287.849046, -49287.849046,\n",
       "       -47287.849046, -45287.849046, -43287.849046, -41287.849046,\n",
       "       -39287.849046, -37287.849046, -35287.849046, -33287.849046,\n",
       "       -31287.849046, -29287.849046, -27287.849046, -25287.849046,\n",
       "       -23287.849046, -21287.849046, -19287.849046, -17287.849046,\n",
       "       -15287.849046, -13287.849046, -11287.849046,  -9287.849046,\n",
       "        -7287.849046,  -5287.849046,  -3287.849046,  -1287.849046,\n",
       "          712.150954,   2712.150954,   4712.150954,   6712.150954,\n",
       "         8712.150954,  10712.150954,  12712.150954,  14712.150954,\n",
       "        16712.150954,  18712.150954,  20712.150954,  22712.150954,\n",
       "        24712.150954,  26712.150954,  28712.150954,  30712.150954,\n",
       "        32712.150954,  34712.150954,  36712.150954,  38712.150954,\n",
       "        40712.150954,  42712.150954,  44712.150954,  46712.150954,\n",
       "        48712.150954,  50712.150954,  52712.150954,  54712.150954])</pre></div></li><li class='xr-var-item'><div class='xr-var-name'><span class='xr-has-index'>easting</span></div><div class='xr-var-dims'>(easting)</div><div class='xr-var-dtype'>float64</div><div class='xr-var-preview xr-preview'>-5.566e+04 -5.366e+04 ... 5.634e+04</div><input id='attrs-c7719f38-2beb-45e5-ae8b-965eb08e2c24' class='xr-var-attrs-in' type='checkbox' disabled><label for='attrs-c7719f38-2beb-45e5-ae8b-965eb08e2c24' title='Show/Hide attributes'><svg class='icon xr-icon-file-text2'><use xlink:href='#icon-file-text2'></use></svg></label><input id='data-2d226946-c9f0-442d-a16b-9c9bc7c0d993' class='xr-var-data-in' type='checkbox'><label for='data-2d226946-c9f0-442d-a16b-9c9bc7c0d993' title='Show/Hide data repr'><svg class='icon xr-icon-database'><use xlink:href='#icon-database'></use></svg></label><div class='xr-var-attrs'><dl class='xr-attrs'></dl></div><div class='xr-var-data'><pre>array([-55659.745397, -53659.745397, -51659.745397, -49659.745397,\n",
       "       -47659.745397, -45659.745397, -43659.745397, -41659.745397,\n",
       "       -39659.745397, -37659.745397, -35659.745397, -33659.745397,\n",
       "       -31659.745397, -29659.745397, -27659.745397, -25659.745397,\n",
       "       -23659.745397, -21659.745397, -19659.745397, -17659.745397,\n",
       "       -15659.745397, -13659.745397, -11659.745397,  -9659.745397,\n",
       "        -7659.745397,  -5659.745397,  -3659.745397,  -1659.745397,\n",
       "          340.254603,   2340.254603,   4340.254603,   6340.254603,\n",
       "         8340.254603,  10340.254603,  12340.254603,  14340.254603,\n",
       "        16340.254603,  18340.254603,  20340.254603,  22340.254603,\n",
       "        24340.254603,  26340.254603,  28340.254603,  30340.254603,\n",
       "        32340.254603,  34340.254603,  36340.254603,  38340.254603,\n",
       "        40340.254603,  42340.254603,  44340.254603,  46340.254603,\n",
       "        48340.254603,  50340.254603,  52340.254603,  54340.254603,\n",
       "        56340.254603])</pre></div></li></ul></div></li><li class='xr-section-item'><input id='section-2e71c3e4-8ade-4097-9497-4c5742ff05a8' class='xr-section-summary-in' type='checkbox'  checked><label for='section-2e71c3e4-8ade-4097-9497-4c5742ff05a8' class='xr-section-summary' >Attributes: <span>(1)</span></label><div class='xr-section-inline-details'></div><div class='xr-section-details'><dl class='xr-attrs'><dt><span>height :</span></dt><dd>2000</dd></dl></div></li></ul></div></div>"
      ],
      "text/plain": [
       "<xarray.DataArray (northing: 56, easting: 57)>\n",
       "array([[2.942098, 3.335356, 3.699304, ..., 3.534445, 3.187211, 2.824452],\n",
       "       [3.334727, 3.805254, 4.23806 , ..., 4.003668, 3.594596, 3.165999],\n",
       "       [3.697873, 4.237236, 4.731814, ..., 4.442474, 3.976724, 3.488055],\n",
       "       ...,\n",
       "       [4.113125, 4.720134, 5.285468, ..., 4.744527, 4.237688, 3.711379],\n",
       "       [3.717267, 4.247201, 4.740353, ..., 4.301227, 3.852887, 3.387261],\n",
       "       [3.293559, 3.739541, 4.155882, ..., 3.821831, 3.437721, 3.039456]])\n",
       "Coordinates:\n",
       "  * northing  (northing) float64 -5.529e+04 -5.329e+04 ... 5.271e+04 5.471e+04\n",
       "  * easting   (easting) float64 -5.566e+04 -5.366e+04 ... 5.434e+04 5.634e+04\n",
       "Attributes:\n",
       "    height:   2000"
      ]
     },
     "execution_count": 5,
     "metadata": {},
     "output_type": "execute_result"
    }
   ],
   "source": [
    "target = xr.open_dataarray(results_dir / \"target.nc\")\n",
    "target"
   ]
  },
  {
   "cell_type": "markdown",
   "metadata": {},
   "source": [
    "Define coordiantes tuple with the location of the survey points"
   ]
  },
  {
   "cell_type": "code",
   "execution_count": 6,
   "metadata": {
    "tags": []
   },
   "outputs": [],
   "source": [
    "coordinates = (survey.easting.values, survey.northing.values, survey.height.values)"
   ]
  },
  {
   "cell_type": "markdown",
   "metadata": {},
   "source": [
    "Get region of the target grid"
   ]
  },
  {
   "cell_type": "code",
   "execution_count": 7,
   "metadata": {
    "tags": []
   },
   "outputs": [],
   "source": [
    "region = (\n",
    "    target.easting.min().values,\n",
    "    target.easting.max().values,\n",
    "    target.northing.min().values,\n",
    "    target.northing.max().values,\n",
    ")"
   ]
  },
  {
   "cell_type": "markdown",
   "metadata": {},
   "source": [
    "## Grid data with EQLHarmonicBoost\n",
    "\n",
    "Based on the results of the two previous notebooks we will use an overlap of 50%. Regarding the window size, the synthetic airborne survey is small enough that it can be gridded using regular equivalent sources. Nevertheless, with the goal of assessing how the gradient-boosted equivalent sources behave on a synthetic survey, we will use windows of 20km per side in order to create a significant amount of windows on the survey area.\n",
    "\n",
    "We will use block-averaged sources with relative depth to define the location of the equivalent sources, while the damping and the depth parameters will be estimated by comparison with the target grid.\n",
    "\n",
    "Define gridding parameters"
   ]
  },
  {
   "cell_type": "code",
   "execution_count": 8,
   "metadata": {
    "tags": []
   },
   "outputs": [],
   "source": [
    "depth_type = \"relative_depth\"\n",
    "random_state = int(0)\n",
    "block_spacing = 2e3\n",
    "window_size = 20e3\n",
    "dampings = np.logspace(-6, 1, 8)\n",
    "depths = np.arange(1e3, 20e3, 2e3)"
   ]
  },
  {
   "cell_type": "markdown",
   "metadata": {},
   "source": [
    "Combine parameters values"
   ]
  },
  {
   "cell_type": "code",
   "execution_count": 9,
   "metadata": {
    "tags": []
   },
   "outputs": [],
   "source": [
    "parameters = combine_parameters(\n",
    "    **dict(\n",
    "        depth_type=depth_type,\n",
    "        depth=depths,\n",
    "        damping=dampings,\n",
    "        spacing=block_spacing,\n",
    "        window_size=window_size,\n",
    "        random_state=random_state,\n",
    "    )\n",
    ")"
   ]
  },
  {
   "cell_type": "markdown",
   "metadata": {},
   "source": [
    "Dump parameters to a JSON file"
   ]
  },
  {
   "cell_type": "code",
   "execution_count": 10,
   "metadata": {
    "tags": []
   },
   "outputs": [],
   "source": [
    "json_file = eql_boost_results_dir / \"eql-boost-airborne-parameters.json\"\n",
    "save_to_json(parameters, json_file)"
   ]
  },
  {
   "cell_type": "markdown",
   "metadata": {},
   "source": [
    "Grid and score the prediction with each set of parameters"
   ]
  },
  {
   "cell_type": "code",
   "execution_count": 11,
   "metadata": {
    "tags": []
   },
   "outputs": [],
   "source": [
    "rms = []\n",
    "for params in parameters:\n",
    "    points = block_averaged_sources(coordinates, **params)\n",
    "    eql = EQLHarmonicBoost(\n",
    "        points=points,\n",
    "        damping=params[\"damping\"],\n",
    "        window_size=params[\"window_size\"],\n",
    "        random_state=params[\"random_state\"],\n",
    "    )\n",
    "    eql.fit(coordinates, getattr(survey, field).values)\n",
    "    grid = eql.grid(upward=target.height, region=region, shape=target.shape).scalars\n",
    "    rms.append(np.sqrt(mean_squared_error(grid.values, target.values)))"
   ]
  },
  {
   "cell_type": "markdown",
   "metadata": {},
   "source": [
    "Get maximum score and the corresponding set of parameters"
   ]
  },
  {
   "cell_type": "code",
   "execution_count": 12,
   "metadata": {
    "tags": []
   },
   "outputs": [
    {
     "name": "stdout",
     "output_type": "stream",
     "text": [
      "Best RMS score: 0.3782578547035577\n",
      "Best parameters: {'depth_type': 'relative_depth', 'depth': 3000.0, 'damping': 0.1, 'spacing': 2000.0, 'window_size': 20000.0, 'random_state': 0}\n"
     ]
    }
   ],
   "source": [
    "best_rms = np.min(rms)\n",
    "best_params = parameters[np.argmin(rms)]\n",
    "\n",
    "print(\"Best RMS score: {}\".format(best_rms))\n",
    "print(\"Best parameters: {}\".format(best_params))"
   ]
  },
  {
   "cell_type": "markdown",
   "metadata": {},
   "source": [
    "Obtain grid with the best set of parameters"
   ]
  },
  {
   "cell_type": "code",
   "execution_count": 13,
   "metadata": {
    "tags": []
   },
   "outputs": [
    {
     "name": "stdout",
     "output_type": "stream",
     "text": [
      "Number of sources: 1663\n"
     ]
    }
   ],
   "source": [
    "points = block_averaged_sources(coordinates, **best_params)\n",
    "print(\"Number of sources:\", points[0].size)\n",
    "eql = EQLHarmonicBoost(\n",
    "    points=points,\n",
    "    damping=best_params[\"damping\"],\n",
    "    window_size=best_params[\"window_size\"],\n",
    "    random_state=best_params[\"random_state\"],\n",
    ")"
   ]
  },
  {
   "cell_type": "code",
   "execution_count": 14,
   "metadata": {
    "tags": []
   },
   "outputs": [
    {
     "name": "stdout",
     "output_type": "stream",
     "text": [
      "RMS: 0.3782578547035577\n"
     ]
    },
    {
     "data": {
      "image/png": "[encoded data removed]",
      "text/plain": [
       "<Figure size 432x288 with 2 Axes>"
      ]
     },
     "metadata": {
      "needs_background": "light"
     },
     "output_type": "display_data"
    },
    {
     "data": {
      "image/png": "[encoded data removed]",
      "text/plain": [
       "<Figure size 432x288 with 2 Axes>"
      ]
     },
     "metadata": {
      "needs_background": "light"
     },
     "output_type": "display_data"
    }
   ],
   "source": [
    "eql.fit(coordinates, getattr(survey, field).values)\n",
    "grid = eql.grid(upward=target.height, region=region, shape=target.shape).scalars\n",
    "\n",
    "print(\"RMS: {}\".format(np.sqrt(mean_squared_error(grid.values, target.values))))\n",
    "grid.plot(center=False)\n",
    "plt.gca().set_aspect(\"equal\")\n",
    "plt.show()\n",
    "\n",
    "\n",
    "maxabs = vd.maxabs(grid - target)\n",
    "(grid - target).plot(cmap=\"seismic\", vmin=-maxabs, vmax=maxabs)\n",
    "plt.gca().set_aspect(\"equal\")\n",
    "plt.show()"
   ]
  },
  {
   "cell_type": "markdown",
   "metadata": {},
   "source": [
    "Plot misfit through the iterations"
   ]
  },
  {
   "cell_type": "code",
   "execution_count": 15,
   "metadata": {
    "tags": []
   },
   "outputs": [
    {
     "data": {
      "image/png": "[encoded data removed]",
      "text/plain": [
       "<Figure size 432x288 with 1 Axes>"
      ]
     },
     "metadata": {
      "needs_background": "light"
     },
     "output_type": "display_data"
    }
   ],
   "source": [
    "plt.plot(eql.errors_)\n",
    "plt.xlabel(\"Iterations\")\n",
    "plt.ylabel(\"RMS of the residue\")\n",
    "plt.show()"
   ]
  },
  {
   "cell_type": "markdown",
   "metadata": {},
   "source": [
    "Save grid"
   ]
  },
  {
   "cell_type": "code",
   "execution_count": 16,
   "metadata": {
    "tags": []
   },
   "outputs": [],
   "source": [
    "grid.to_netcdf(eql_boost_results_dir / \"airborne_grid_boost.nc\")"
   ]
  },
  {
   "cell_type": "markdown",
   "metadata": {},
   "source": [
    "Save fitting errors as a csv"
   ]
  },
  {
   "cell_type": "code",
   "execution_count": 17,
   "metadata": {},
   "outputs": [],
   "source": [
    "pd.DataFrame({\"errors\": eql.errors_}).to_csv(\n",
    "    eql_boost_results_dir / \"airborne-fitting-errors.csv\"\n",
    ")"
   ]
  },
  {
   "cell_type": "markdown",
   "metadata": {},
   "source": [
    "Save parameters to a JSON file"
   ]
  },
  {
   "cell_type": "code",
   "execution_count": 18,
   "metadata": {},
   "outputs": [],
   "source": [
    "variables = {\n",
    "    \"eql_boost_airborne_rms_score\": best_rms,\n",
    "    \"eql_boost_airborne_depth\": best_params[\"depth\"],\n",
    "    \"eql_boost_airborne_damping\": best_params[\"damping\"],\n",
    "    \"eql_boost_airborne_spacing\": best_params[\"spacing\"],\n",
    "    \"eql_boost_airborne_window_size\": best_params[\"window_size\"],\n",
    "    \"eql_boost_airborne_n_sources\": points[0].size,\n",
    "    \"eql_boost_airborne_min_depth\": depths.min(),\n",
    "    \"eql_boost_airborne_max_depth\": depths.max(),\n",
    "    \"eql_boost_airborne_min_damping\": dampings.min(),\n",
    "    \"eql_boost_airborne_max_damping\": dampings.max(),\n",
    "}\n",
    "\n",
    "json_file = Path(\"..\") / \"results\" / \"eql_boost_airborne.json\"\n",
    "save_to_json(variables, json_file)"
   ]
  }
 ],
 "metadata": {
  "kernelspec": {
   "display_name": "Python [conda env:eql-gradient-boosted]",
   "language": "python",
   "name": "conda-env-eql-gradient-boosted-py"
  },
  "language_info": {
   "codemirror_mode": {
    "name": "ipython",
    "version": 3
   },
   "file_extension": ".py",
   "mimetype": "text/x-python",
   "name": "python",
   "nbconvert_exporter": "python",
   "pygments_lexer": "ipython3",
   "version": "3.7.10"
  }
 },
 "nbformat": 4,
 "nbformat_minor": 4
}
