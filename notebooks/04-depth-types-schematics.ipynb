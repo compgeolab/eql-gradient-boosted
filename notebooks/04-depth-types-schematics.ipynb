{
 "cells": [
  {
   "cell_type": "markdown",
   "metadata": {},
   "source": [
    "# Schematic figure of depth types"
   ]
  },
  {
   "cell_type": "markdown",
   "metadata": {},
   "source": [
    "Import packages"
   ]
  },
  {
   "cell_type": "code",
   "execution_count": 1,
   "metadata": {},
   "outputs": [],
   "source": [
    "from IPython.display import display\n",
    "from pathlib import Path\n",
    "import numpy as np\n",
    "import pandas as pd\n",
    "import matplotlib.pyplot as plt\n",
    "\n",
    "from boost_and_layouts import source_below_data\n"
   ]
  },
  {
   "cell_type": "markdown",
   "metadata": {},
   "source": [
    "Read a synthetic 1d survey"
   ]
  },
  {
   "cell_type": "code",
   "execution_count": 2,
   "metadata": {},
   "outputs": [
    {
     "name": "stderr",
     "output_type": "stream",
     "text": [
      "/home/leo/miniconda3/envs/eql-gradient-boosted/lib/python3.7/site-packages/ipykernel/ipkernel.py:287: DeprecationWarning: `should_run_async` will not call `transform_cell` automatically in the future. Please pass the result to `transformed_cell` argument and any exception that happen during thetransform in `preprocessing_exc_tuple` in IPython 7.17 and above.\n",
      "  and should_run_async(code)\n"
     ]
    },
    {
     "data": {
      "text/html": [
       "<div>\n",
       "<style scoped>\n",
       "    .dataframe tbody tr th:only-of-type {\n",
       "        vertical-align: middle;\n",
       "    }\n",
       "\n",
       "    .dataframe tbody tr th {\n",
       "        vertical-align: top;\n",
       "    }\n",
       "\n",
       "    .dataframe thead th {\n",
       "        text-align: right;\n",
       "    }\n",
       "</style>\n",
       "<table border=\"1\" class=\"dataframe\">\n",
       "  <thead>\n",
       "    <tr style=\"text-align: right;\">\n",
       "      <th></th>\n",
       "      <th>easting</th>\n",
       "      <th>height</th>\n",
       "    </tr>\n",
       "  </thead>\n",
       "  <tbody>\n",
       "    <tr>\n",
       "      <th>0</th>\n",
       "      <td>0.00000</td>\n",
       "      <td>8.552630</td>\n",
       "    </tr>\n",
       "    <tr>\n",
       "      <th>1</th>\n",
       "      <td>47.03944</td>\n",
       "      <td>23.519720</td>\n",
       "    </tr>\n",
       "    <tr>\n",
       "      <th>2</th>\n",
       "      <td>84.45717</td>\n",
       "      <td>63.075609</td>\n",
       "    </tr>\n",
       "    <tr>\n",
       "      <th>3</th>\n",
       "      <td>115.99495</td>\n",
       "      <td>84.991709</td>\n",
       "    </tr>\n",
       "    <tr>\n",
       "      <th>4</th>\n",
       "      <td>146.99821</td>\n",
       "      <td>55.592070</td>\n",
       "    </tr>\n",
       "    <tr>\n",
       "      <th>5</th>\n",
       "      <td>173.19062</td>\n",
       "      <td>16.570730</td>\n",
       "    </tr>\n",
       "    <tr>\n",
       "      <th>6</th>\n",
       "      <td>191.36494</td>\n",
       "      <td>9.087180</td>\n",
       "    </tr>\n",
       "    <tr>\n",
       "      <th>7</th>\n",
       "      <td>207.93565</td>\n",
       "      <td>13.363480</td>\n",
       "    </tr>\n",
       "    <tr>\n",
       "      <th>8</th>\n",
       "      <td>218.09190</td>\n",
       "      <td>6.949010</td>\n",
       "    </tr>\n",
       "    <tr>\n",
       "      <th>9</th>\n",
       "      <td>228.24815</td>\n",
       "      <td>0.000000</td>\n",
       "    </tr>\n",
       "    <tr>\n",
       "      <th>10</th>\n",
       "      <td>238.93892</td>\n",
       "      <td>5.345400</td>\n",
       "    </tr>\n",
       "    <tr>\n",
       "      <th>11</th>\n",
       "      <td>257.11323</td>\n",
       "      <td>11.759870</td>\n",
       "    </tr>\n",
       "    <tr>\n",
       "      <th>12</th>\n",
       "      <td>274.21849</td>\n",
       "      <td>22.450660</td>\n",
       "    </tr>\n",
       "    <tr>\n",
       "      <th>13</th>\n",
       "      <td>306.29084</td>\n",
       "      <td>35.279590</td>\n",
       "    </tr>\n",
       "    <tr>\n",
       "      <th>14</th>\n",
       "      <td>346.91581</td>\n",
       "      <td>23.519730</td>\n",
       "    </tr>\n",
       "    <tr>\n",
       "      <th>15</th>\n",
       "      <td>383.90788</td>\n",
       "      <td>25.460310</td>\n",
       "    </tr>\n",
       "    <tr>\n",
       "      <th>16</th>\n",
       "      <td>419.72197</td>\n",
       "      <td>46.841880</td>\n",
       "    </tr>\n",
       "    <tr>\n",
       "      <th>17</th>\n",
       "      <td>467.29594</td>\n",
       "      <td>61.808977</td>\n",
       "    </tr>\n",
       "    <tr>\n",
       "      <th>18</th>\n",
       "      <td>503.11003</td>\n",
       "      <td>43.100100</td>\n",
       "    </tr>\n",
       "  </tbody>\n",
       "</table>\n",
       "</div>"
      ],
      "text/plain": [
       "      easting     height\n",
       "0     0.00000   8.552630\n",
       "1    47.03944  23.519720\n",
       "2    84.45717  63.075609\n",
       "3   115.99495  84.991709\n",
       "4   146.99821  55.592070\n",
       "5   173.19062  16.570730\n",
       "6   191.36494   9.087180\n",
       "7   207.93565  13.363480\n",
       "8   218.09190   6.949010\n",
       "9   228.24815   0.000000\n",
       "10  238.93892   5.345400\n",
       "11  257.11323  11.759870\n",
       "12  274.21849  22.450660\n",
       "13  306.29084  35.279590\n",
       "14  346.91581  23.519730\n",
       "15  383.90788  25.460310\n",
       "16  419.72197  46.841880\n",
       "17  467.29594  61.808977\n",
       "18  503.11003  43.100100"
      ]
     },
     "metadata": {},
     "output_type": "display_data"
    }
   ],
   "source": [
    "survey = pd.read_csv(Path(\"..\") / \"data\" / \"survey_1d.csv\")\n",
    "display(survey)"
   ]
  },
  {
   "cell_type": "markdown",
   "metadata": {},
   "source": [
    "## Create source distributions"
   ]
  },
  {
   "cell_type": "code",
   "execution_count": 3,
   "metadata": {},
   "outputs": [
    {
     "name": "stderr",
     "output_type": "stream",
     "text": [
      "/home/leo/miniconda3/envs/eql-gradient-boosted/lib/python3.7/site-packages/ipykernel/ipkernel.py:287: DeprecationWarning: `should_run_async` will not call `transform_cell` automatically in the future. Please pass the result to `transformed_cell` argument and any exception that happen during thetransform in `preprocessing_exc_tuple` in IPython 7.17 and above.\n",
      "  and should_run_async(code)\n"
     ]
    }
   ],
   "source": [
    "points = {}"
   ]
  },
  {
   "cell_type": "markdown",
   "metadata": {},
   "source": [
    "Source below data with constant depth"
   ]
  },
  {
   "cell_type": "code",
   "execution_count": 4,
   "metadata": {},
   "outputs": [
    {
     "data": {
      "image/png": "[encoded data removed]",
      "text/plain": [
       "<Figure size 432x288 with 1 Axes>"
      ]
     },
     "metadata": {
      "needs_background": "light"
     },
     "output_type": "display_data"
    }
   ],
   "source": [
    "depth_type = \"constant_depth\"\n",
    "coordinates = (survey.easting, np.zeros_like(survey.easting), survey.height)\n",
    "points[depth_type] = source_below_data(coordinates, depth_type=depth_type, depth=150)\n",
    "\n",
    "plt.scatter(coordinates[0], coordinates[2])\n",
    "plt.scatter(points[depth_type][0], points[depth_type][2])\n",
    "plt.show()"
   ]
  },
  {
   "cell_type": "markdown",
   "metadata": {},
   "source": [
    "Source below data with relative depth"
   ]
  },
  {
   "cell_type": "code",
   "execution_count": 5,
   "metadata": {},
   "outputs": [
    {
     "data": {
      "image/png": "[encoded data removed]",
      "text/plain": [
       "<Figure size 432x288 with 1 Axes>"
      ]
     },
     "metadata": {
      "needs_background": "light"
     },
     "output_type": "display_data"
    }
   ],
   "source": [
    "depth_type = \"relative_depth\"\n",
    "coordinates = (survey.easting, np.zeros_like(survey.easting), survey.height)\n",
    "points[depth_type] = source_below_data(coordinates, depth_type=depth_type, depth=150)\n",
    "\n",
    "plt.scatter(coordinates[0], coordinates[2])\n",
    "plt.scatter(points[depth_type][0], points[depth_type][2])\n",
    "plt.show()"
   ]
  },
  {
   "cell_type": "markdown",
   "metadata": {},
   "source": [
    "Source below data with variable depth"
   ]
  },
  {
   "cell_type": "code",
   "execution_count": 6,
   "metadata": {
    "lines_to_next_cell": 0
   },
   "outputs": [
    {
     "data": {
      "image/png": "[encoded data removed]",
      "text/plain": [
       "<Figure size 432x288 with 1 Axes>"
      ]
     },
     "metadata": {
      "needs_background": "light"
     },
     "output_type": "display_data"
    }
   ],
   "source": [
    "depth_type = \"variable_depth\"\n",
    "coordinates = (survey.easting, np.zeros_like(survey.easting), survey.height)\n",
    "points[depth_type] = source_below_data(\n",
    "    coordinates, depth_type=depth_type, depth_factor=1, depth=100, k_nearest=3\n",
    ")\n",
    "\n",
    "plt.scatter(coordinates[0], coordinates[2])\n",
    "plt.scatter(points[depth_type][0], points[depth_type][2])\n",
    "plt.show()"
   ]
  },
  {
   "cell_type": "code",
   "execution_count": 7,
   "metadata": {},
   "outputs": [
    {
     "name": "stderr",
     "output_type": "stream",
     "text": [
      "findfont: Font family ['serif'] not found. Falling back to DejaVu Sans.\n"
     ]
    },
    {
     "data": {
      "image/png": "[encoded data removed]",
      "text/plain": [
       "<Figure size 1998x450 with 3 Axes>"
      ]
     },
     "metadata": {
      "needs_background": "light"
     },
     "output_type": "display_data"
    }
   ],
   "source": [
    "# Load matplotlib configuration\n",
    "plt.style.use(Path(\".\") / \"matplotlib.rc\")\n",
    "\n",
    "# Initialize figure and axes\n",
    "width = 6.66\n",
    "height = 1.5\n",
    "fig, axes = plt.subplots(ncols=3, nrows=1, sharey=True, figsize=(width, height))\n",
    "\n",
    "# Define styles and axes labels and titles\n",
    "size = 8\n",
    "titles = [\"Constant Depth\", \"Relative Depth\", \"Variable Depth\"]\n",
    "labels = \"a b c\".split()\n",
    "\n",
    "# Plot\n",
    "for ax, depth_type, title, label in zip(axes, points, titles, labels):\n",
    "    observations = ax.scatter(coordinates[0], coordinates[2], s=size, marker=\"^\")\n",
    "    sources = ax.scatter(points[depth_type][0], points[depth_type][2], s=size)\n",
    "    ax.axhline(y=0, color=\"grey\", linestyle=\"--\", linewidth=0.5)\n",
    "    ax.set_title(title)\n",
    "    ax.set_aspect(\"equal\")\n",
    "    ax.axis(\"off\")\n",
    "    ax.annotate(\n",
    "        label,\n",
    "        xy=(0.045, 0.98),\n",
    "        xycoords=\"axes fraction\",\n",
    "        bbox=dict(boxstyle=\"circle\", fc=\"white\", lw=0.2),\n",
    "    )\n",
    "\n",
    "plt.figlegend(\n",
    "    handles=(observations, sources),\n",
    "    labels=(\"observation points\", \"equivalent sources\"),\n",
    "    loc=(0.62, 0.02),\n",
    "    borderpad=0,\n",
    "    handletextpad=0,\n",
    "    frameon=False,\n",
    "    ncol=2,\n",
    "    columnspacing=0,\n",
    ")\n",
    "axes[0].set_ylim(-200, 130)\n",
    "\n",
    "plt.tight_layout(w_pad=0)\n",
    "plt.savefig(Path(\"..\") / \"manuscript\" / \"figs\" / \"depth_types.pdf\", bbox_inches=\"tight\")\n",
    "plt.show()"
   ]
  }
 ],
 "metadata": {
  "kernelspec": {
   "display_name": "Python [conda env:eql-gradient-boosted]",
   "language": "python",
   "name": "conda-env-eql-gradient-boosted-py"
  },
  "language_info": {
   "codemirror_mode": {
    "name": "ipython",
    "version": 3
   },
   "file_extension": ".py",
   "mimetype": "text/x-python",
   "name": "python",
   "nbconvert_exporter": "python",
   "pygments_lexer": "ipython3",
   "version": "3.7.8"
  }
 },
 "nbformat": 4,
 "nbformat_minor": 4
}
