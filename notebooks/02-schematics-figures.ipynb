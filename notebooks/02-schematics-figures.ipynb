{
 "cells": [
  {
   "cell_type": "markdown",
   "metadata": {},
   "source": [
    "# Source layouts schematics"
   ]
  },
  {
   "cell_type": "code",
   "execution_count": null,
   "metadata": {},
   "outputs": [],
   "source": [
    "from IPython.display import display  # noqa: F401  # ignore used but not imported\n",
    "from pathlib import Path\n",
    "import numpy as np\n",
    "import pandas as pd\n",
    "import verde as vd\n",
    "import matplotlib.pyplot as plt\n",
    "from matplotlib.patches import Rectangle\n",
    "\n",
    "import boost_and_layouts\n",
    "from boost_and_layouts import save_to_json\n"
   ]
  },
  {
   "cell_type": "markdown",
   "metadata": {},
   "source": [
    "## Define parameters for building the source distributions"
   ]
  },
  {
   "cell_type": "code",
   "execution_count": null,
   "metadata": {},
   "outputs": [],
   "source": [
    "# Define results directory to read synthetic ground survey\n",
    "results_dir = Path(\"..\") / \"results\"\n",
    "ground_results_dir = results_dir / \"ground_survey\""
   ]
  },
  {
   "cell_type": "markdown",
   "metadata": {},
   "source": [
    "## Read synthetic ground survey\n"
   ]
  },
  {
   "cell_type": "markdown",
   "metadata": {},
   "source": [
    "Get coordinates of observation points from a synthetic ground survey"
   ]
  },
  {
   "cell_type": "code",
   "execution_count": null,
   "metadata": {},
   "outputs": [],
   "source": [
    "survey = pd.read_csv(ground_results_dir / \"survey.csv\")"
   ]
  },
  {
   "cell_type": "code",
   "execution_count": null,
   "metadata": {},
   "outputs": [],
   "source": [
    "inside = np.logical_and(\n",
    "    np.logical_and(\n",
    "        survey.easting > 0,\n",
    "        survey.easting < 40e3,\n",
    "    ),\n",
    "    np.logical_and(\n",
    "        survey.northing > -60e3,\n",
    "        survey.northing < -20e3,\n",
    "    ),\n",
    ")\n",
    "survey = survey.loc[inside]"
   ]
  },
  {
   "cell_type": "code",
   "execution_count": null,
   "metadata": {},
   "outputs": [],
   "source": [
    "survey"
   ]
  },
  {
   "cell_type": "code",
   "execution_count": null,
   "metadata": {},
   "outputs": [],
   "source": [
    "fig, ax = plt.subplots(figsize=(6, 6))\n",
    "tmp = ax.scatter(survey.easting, survey.northing)\n",
    "ax.set_aspect(\"equal\")\n",
    "ax.set_title(\"Height of ground survey points\")\n",
    "plt.show()"
   ]
  },
  {
   "cell_type": "code",
   "execution_count": null,
   "metadata": {},
   "outputs": [],
   "source": [
    "coordinates = (survey.easting, survey.northing, survey.height)"
   ]
  },
  {
   "cell_type": "markdown",
   "metadata": {},
   "source": [
    "### Generate the source distributions"
   ]
  },
  {
   "cell_type": "code",
   "execution_count": null,
   "metadata": {},
   "outputs": [],
   "source": [
    "block_spacing = 3000\n",
    "grid_spacing = 2000\n",
    "\n",
    "layouts = [\"source_below_data\", \"grid_sources\", \"block_averaged_sources\"]\n",
    "depth_type = \"constant_depth\"\n",
    "\n",
    "parameters = {}\n",
    "\n",
    "layout = \"source_below_data\"\n",
    "parameters[layout] = dict(\n",
    "    depth_type=depth_type,\n",
    "    depth=500,\n",
    ")\n",
    "\n",
    "layout = \"grid_sources\"\n",
    "parameters[layout] = dict(depth_type=depth_type, depth=500, spacing=grid_spacing)\n",
    "\n",
    "layout = \"block_averaged_sources\"\n",
    "parameters[layout] = dict(depth_type=depth_type, depth=500, spacing=block_spacing)"
   ]
  },
  {
   "cell_type": "code",
   "execution_count": null,
   "metadata": {},
   "outputs": [],
   "source": [
    "source_distributions = {}\n",
    "for layout in parameters:\n",
    "    source_distributions[layout] = getattr(boost_and_layouts, layout)(\n",
    "        coordinates, **parameters[layout]\n",
    "    )"
   ]
  },
  {
   "cell_type": "markdown",
   "metadata": {},
   "source": [
    "Create lines for plotting the boundaries of the blocks"
   ]
  },
  {
   "cell_type": "code",
   "execution_count": null,
   "metadata": {},
   "outputs": [],
   "source": [
    "region = vd.get_region(coordinates)\n",
    "grid_nodes = vd.grid_coordinates(region, spacing=block_spacing)\n",
    "\n",
    "grid_lines = (np.unique(grid_nodes[0]), np.unique(grid_nodes[1]))\n",
    "for nodes in grid_lines:\n",
    "    nodes.sort()"
   ]
  },
  {
   "cell_type": "markdown",
   "metadata": {},
   "source": [
    "## Plot observation points and source layouts"
   ]
  },
  {
   "cell_type": "code",
   "execution_count": null,
   "metadata": {},
   "outputs": [],
   "source": [
    "# Load matplotlib configuration\n",
    "plt.style.use(Path(\".\") / \"matplotlib.rc\")\n",
    "\n",
    "titles = {\n",
    "    \"source_below_data\": \"Sources below data\",\n",
    "    \"block_averaged_sources\": \"Block-averaged sources\",\n",
    "    \"grid_sources\": \"Regular grid\",\n",
    "}\n",
    "\n",
    "fig, axes = plt.subplots(nrows=1, ncols=4, sharey=True, figsize=(7, 1.7), dpi=300)\n",
    "size = 3\n",
    "labels = \"a b c d\".split()\n",
    "\n",
    "for ax, label in zip(axes, labels):\n",
    "    ax.set_aspect(\"equal\")\n",
    "    ax.annotate(\n",
    "        label,\n",
    "        xy=(0.02, 0.95),\n",
    "        xycoords=\"axes fraction\",\n",
    "        bbox=dict(boxstyle=\"circle\", fc=\"white\", lw=0.2),\n",
    "    )\n",
    "    ax.axis(\"off\")\n",
    "\n",
    "# Plot observation points\n",
    "ax = axes[0]\n",
    "ax.scatter(survey.easting, survey.northing, s=size, c=\"C0\", marker=\"^\")\n",
    "ax.set_title(\"Observation points\")\n",
    "\n",
    "# Plot location of sources for each source layout\n",
    "for ax, layout in zip(axes[1:], layouts):\n",
    "    ax.scatter(*source_distributions[layout][:2], s=size, c=\"C1\")\n",
    "    ax.set_title(titles[layout])\n",
    "\n",
    "# Add blocks boundaries to Block Averaged Sources plot\n",
    "ax = axes[3]\n",
    "grid_style = dict(color=\"grey\", linewidth=0.5, linestyle=\"--\")\n",
    "xmin, xmax, ymin, ymax = region[:]\n",
    "for x in grid_lines[0]:\n",
    "    ax.plot((x, x), (ymin, ymax), **grid_style)\n",
    "for y in grid_lines[1]:\n",
    "    ax.plot((xmin, xmax), (y, y), **grid_style)\n",
    "\n",
    "plt.tight_layout(w_pad=0)\n",
    "plt.savefig(\n",
    "    Path(\"..\") / \"manuscript\" / \"figs\" / \"source-layouts-schematics.pdf\",\n",
    "    dpi=300,\n",
    "    bbox_inches=\"tight\",\n",
    ")\n",
    "plt.show()"
   ]
  },
  {
   "cell_type": "markdown",
   "metadata": {},
   "source": [
    "## Dump number of observation points and sources to JSON file"
   ]
  },
  {
   "cell_type": "code",
   "execution_count": null,
   "metadata": {},
   "outputs": [],
   "source": [
    "variables = {\n",
    "    \"source_layouts_schematics_observations\": survey.easting.size,\n",
    "}\n",
    "for layout in layouts:\n",
    "    variables[\"source_layouts_schematics_{}\".format(layout)] = source_distributions[\n",
    "        layout\n",
    "    ][0].size\n",
    "\n",
    "json_file = results_dir / \"source-layouts-schematics.json\"\n",
    "save_to_json(variables, json_file)"
   ]
  },
  {
   "cell_type": "markdown",
   "metadata": {},
   "source": [
    "# Gradient boosting schematics"
   ]
  },
  {
   "cell_type": "code",
   "execution_count": null,
   "metadata": {},
   "outputs": [],
   "source": [
    "sources = source_distributions[\"source_below_data\"]\n",
    "region = vd.get_region(sources)"
   ]
  },
  {
   "cell_type": "code",
   "execution_count": null,
   "metadata": {},
   "outputs": [],
   "source": [
    "overlapping = 0.5\n",
    "window_size = 18e3\n",
    "spacing = window_size * (1 - overlapping)\n",
    "\n",
    "centers, indices = vd.rolling_window(sources, size=window_size, spacing=spacing)\n",
    "spacing_easting = centers[0][0, 1] - centers[0][0, 0]\n",
    "spacing_northing = centers[1][1, 0] - centers[1][0, 0]\n",
    "\n",
    "print(\"Desired spacing:\", spacing)\n",
    "print(\"Actual spacing:\", (spacing_easting, spacing_northing))"
   ]
  },
  {
   "cell_type": "code",
   "execution_count": null,
   "metadata": {},
   "outputs": [],
   "source": [
    "indices = [i[0] for i in indices.ravel()]\n",
    "centers = [i.ravel() for i in centers]\n",
    "n_windows = centers[0].size\n",
    "\n",
    "print(\"Number of windows:\", n_windows)"
   ]
  },
  {
   "cell_type": "code",
   "execution_count": null,
   "metadata": {},
   "outputs": [],
   "source": [
    "ncols = 10\n",
    "figsize = (1.7 * ncols, 1.7)\n",
    "size = 3\n",
    "\n",
    "fig, axes = plt.subplots(\n",
    "    ncols=ncols, nrows=1, figsize=figsize, dpi=300, sharex=True, sharey=True\n",
    ")\n",
    "\n",
    "for ax in axes:\n",
    "    ax.set_aspect(\"equal\")\n",
    "    ax.axis(\"off\")\n",
    "\n",
    "# Observation points\n",
    "axes[0].scatter(survey.easting, survey.northing, s=size, c=\"C0\", marker=\"^\")\n",
    "\n",
    "# Sources\n",
    "axes[1].scatter(*sources[:2], s=size, c=\"C1\")\n",
    "\n",
    "# First fit\n",
    "# ---------\n",
    "window_i = 0\n",
    "window = indices[window_i]\n",
    "not_window = [i for i in np.arange(sources[0].size) if i not in window]\n",
    "w_center_easting, w_center_northing = centers[0][window_i], centers[1][window_i]\n",
    "rectangle_kwargs = dict(\n",
    "    xy=(w_center_easting - window_size / 2, w_center_northing - window_size / 2),\n",
    "    width=window_size,\n",
    "    height=window_size,\n",
    "    fill=False,\n",
    "    linewidth=0.5,\n",
    "    linestyle=\"--\",\n",
    "    color=\"#444444\",\n",
    ")\n",
    "\n",
    "# Observation points\n",
    "axes[2].scatter(\n",
    "    survey.easting.values[window],\n",
    "    survey.northing.values[window],\n",
    "    s=size,\n",
    "    c=\"C0\",\n",
    "    marker=\"^\",\n",
    ")\n",
    "axes[2].scatter(\n",
    "    survey.easting.values[not_window],\n",
    "    survey.northing.values[not_window],\n",
    "    s=size,\n",
    "    c=\"C7\",\n",
    "    marker=\"^\",\n",
    ")\n",
    "rectangle = Rectangle(**rectangle_kwargs)\n",
    "axes[2].add_patch(rectangle)\n",
    "\n",
    "# Sources\n",
    "axes[3].scatter(sources[0][window], sources[1][window], s=size, c=\"C1\")\n",
    "axes[3].scatter(sources[0][not_window], sources[1][not_window], s=size, c=\"C7\")\n",
    "rectangle = Rectangle(**rectangle_kwargs)\n",
    "axes[3].add_patch(rectangle)\n",
    "\n",
    "# First Prediction\n",
    "# ----------------\n",
    "axes[4].scatter(survey.easting, survey.northing, s=size, c=\"C3\", marker=\"v\")\n",
    "axes[5].scatter(sources[0][window], sources[1][window], s=size, c=\"C1\")\n",
    "rectangle = Rectangle(**rectangle_kwargs)\n",
    "axes[5].add_patch(rectangle)\n",
    "\n",
    "# Second fit\n",
    "# ----------\n",
    "window_i = 3\n",
    "window = indices[window_i]\n",
    "not_window = [i for i in np.arange(sources[0].size) if i not in window]\n",
    "w_center_easting, w_center_northing = centers[0][window_i], centers[1][window_i]\n",
    "rectangle_kwargs = dict(\n",
    "    xy=(w_center_easting - window_size / 2, w_center_northing - window_size / 2),\n",
    "    width=window_size,\n",
    "    height=window_size,\n",
    "    fill=False,\n",
    "    linewidth=0.5,\n",
    "    linestyle=\"--\",\n",
    "    color=\"#444444\",\n",
    ")\n",
    "\n",
    "# Residue\n",
    "axes[6].scatter(\n",
    "    survey.easting.values[window],\n",
    "    survey.northing.values[window],\n",
    "    s=size,\n",
    "    c=\"C3\",\n",
    "    marker=\"v\",\n",
    ")\n",
    "axes[6].scatter(\n",
    "    survey.easting.values[not_window],\n",
    "    survey.northing.values[not_window],\n",
    "    s=size,\n",
    "    c=\"C7\",\n",
    "    marker=\"^\",\n",
    ")\n",
    "rectangle = Rectangle(**rectangle_kwargs)\n",
    "axes[6].add_patch(rectangle)\n",
    "\n",
    "# Sources\n",
    "axes[7].scatter(sources[0][window], sources[1][window], s=size, c=\"C1\")\n",
    "axes[7].scatter(sources[0][not_window], sources[1][not_window], s=size, c=\"C7\")\n",
    "rectangle = Rectangle(**rectangle_kwargs)\n",
    "axes[7].add_patch(rectangle)\n",
    "\n",
    "# Second Prediction\n",
    "# -----------------\n",
    "axes[8].scatter(survey.easting, survey.northing, s=size, c=\"C3\", marker=\"v\")\n",
    "axes[9].scatter(sources[0][window], sources[1][window], s=size, c=\"C1\")\n",
    "rectangle = Rectangle(**rectangle_kwargs)\n",
    "axes[9].add_patch(rectangle)\n",
    "\n",
    "\n",
    "plt.savefig(Path(\"..\") / \"manuscript\" / \"figs\" / \"svg\" / \"gradient-boosting-raw.svg\")\n",
    "plt.show()"
   ]
  }
 ],
 "metadata": {
  "kernelspec": {
   "display_name": "Python 3",
   "language": "python",
   "name": "python3"
  }
 },
 "nbformat": 4,
 "nbformat_minor": 4
}
